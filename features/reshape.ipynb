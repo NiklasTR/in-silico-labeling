{
 "cells": [
  {
   "cell_type": "code",
   "execution_count": null,
   "metadata": {},
   "outputs": [],
   "source": [
    "%matplotlib inline"
   ]
  },
  {
   "cell_type": "code",
   "execution_count": null,
   "metadata": {},
   "outputs": [],
   "source": [
    "import numpy as np\n",
    "import skimage.io\n",
    "import pickle\n",
    "import matplotlib.pyplot as plt"
   ]
  },
  {
   "cell_type": "code",
   "execution_count": null,
   "metadata": {},
   "outputs": [],
   "source": [
    "def get_feature_map(batches):\n",
    "    feature_map = np.zeros((128,128,64))\n",
    "    for i in range(16):\n",
    "        for j in range(16):\n",
    "            pos = j + i*16\n",
    "            x = i*8\n",
    "            y = j*8\n",
    "            feature_map[x:x+8, y:y+8] = batches[pos,...]\n",
    "    return feature_map"
   ]
  },
  {
   "cell_type": "code",
   "execution_count": null,
   "metadata": {},
   "outputs": [],
   "source": [
    "feature_pack = pickle.load(open(\"/tmp/isl/eval_eval_infer/00984658/featpack.pkl\",\"rb\"))"
   ]
  },
  {
   "cell_type": "code",
   "execution_count": null,
   "metadata": {},
   "outputs": [],
   "source": [
    "image = np.zeros((feature_pack[-1][0]+128, feature_pack[-1][1]+128))\n",
    "features = np.zeros((feature_pack[-1][0]+128, feature_pack[-1][1]+128, 64))\n",
    "for k in feature_pack:\n",
    "    image[k[0]:k[0]+128, k[1]:k[1]+128] = k[3][0,:,:,0,0,0]\n",
    "    features[k[0]:k[0]+128, k[1]:k[1]+128, :] = get_feature_map(k[2])"
   ]
  },
  {
   "cell_type": "code",
   "execution_count": null,
   "metadata": {},
   "outputs": [],
   "source": [
    "plt.imshow(image)"
   ]
  },
  {
   "cell_type": "code",
   "execution_count": null,
   "metadata": {},
   "outputs": [],
   "source": [
    "plt.imshow(features[:,:,13])"
   ]
  },
  {
   "cell_type": "code",
   "execution_count": null,
   "metadata": {},
   "outputs": [],
   "source": []
  }
 ],
 "metadata": {
  "kernelspec": {
   "display_name": "Python [conda env:tensorflow_p36]",
   "language": "python",
   "name": "conda-env-tensorflow_p36-py"
  },
  "language_info": {
   "codemirror_mode": {
    "name": "ipython",
    "version": 3
   },
   "file_extension": ".py",
   "mimetype": "text/x-python",
   "name": "python",
   "nbconvert_exporter": "python",
   "pygments_lexer": "ipython3",
   "version": "3.6.5"
  }
 },
 "nbformat": 4,
 "nbformat_minor": 2
}
